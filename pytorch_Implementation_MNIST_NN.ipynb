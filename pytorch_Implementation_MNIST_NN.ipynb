{
 "cells": [
  {
   "cell_type": "markdown",
   "metadata": {},
   "source": [
    "ADVANCE LEARNING ALGORITHMS \n",
    "\n",
    "WEEK 2\n",
    "\n",
    "ASSIGNMENT"
   ]
  },
  {
   "cell_type": "code",
   "execution_count": 26,
   "metadata": {},
   "outputs": [],
   "source": [
    "# THESE ARE THE LIBRARIES NEEDED TO IMPLEMENT THE MODEL IN PYTORCH\n",
    "import torch\n",
    "import torch.nn as nn\n",
    "import torch.nn as nn\n",
    "import torch.optim as optim\n",
    "from torch.utils.data import DataLoader, TensorDataset"
   ]
  },
  {
   "cell_type": "markdown",
   "metadata": {},
   "source": [
    "IMPORTING MNIST DATASET"
   ]
  },
  {
   "cell_type": "code",
   "execution_count": 27,
   "metadata": {},
   "outputs": [
    {
     "name": "stdout",
     "output_type": "stream",
     "text": [
      "x_train shape: (52500, 784)\n",
      "y_train shape: (52500,)\n",
      "x_test shape: (17500, 784)\n",
      "y_test shape: (17500,)\n"
     ]
    }
   ],
   "source": [
    "# I HAVE DOWNLOADED THE DATASET FORM SKLEARN LIBRARY. MINIST DATASET IS AN IMAGE DATASET OF HANDWRITTEN DIGITS.\n",
    "# THE DATASET CONTAINS 70,000 IMAGES OF HANDWRITTEN DIGITS. EACH IMAGE IS 28X28 PIXELS.\n",
    "\n",
    "from sklearn.datasets import fetch_openml\n",
    "mnist = fetch_openml('mnist_784', version=1)\n",
    "\n",
    "X, y = mnist['data'], mnist['target']\n",
    "\n",
    "\n",
    "from sklearn.model_selection import train_test_split\n",
    "x_train, x_test, y_train, y_test = train_test_split(X, y, test_size=0.25, random_state=42)\n",
    "\n",
    "# NORMALIZE THE DATA\n",
    "# THIS IS DONE TO MAKE THE TRAINING PROCESS FASTER\n",
    "# THE PIXEL VALUES OF THE IMAGES ARE IN THE RANGE OF 0 TO 255\n",
    "# WE DIVIDE THE PIXEL VALUES BY 255 SO THAT THE PIXEL VALUES WILL BE IN THE RANGE OF 0 TO 1\n",
    "\n",
    "x_train = x_train / 255.0\n",
    "x_test = x_test / 255.0\n",
    "\n",
    "\n",
    "print(f\"x_train shape: {x_train.shape}\")\n",
    "print(f\"y_train shape: {y_train.shape}\")\n",
    "print(f\"x_test shape: {x_test.shape}\")\n",
    "print(f\"y_test shape: {y_test.shape}\")\n"
   ]
  },
  {
   "cell_type": "markdown",
   "metadata": {},
   "source": [
    "Creating pytorch tensors"
   ]
  },
  {
   "cell_type": "code",
   "execution_count": 28,
   "metadata": {},
   "outputs": [],
   "source": [
    "# THE DATA IS IN THE FORM OF PANDAS DATAFRAME\n",
    "# WE NEED TO CONVERT THE DATA INTO TENSORS TO USE IT IN PYTORCH\n",
    "# BELOW CODE CONVERTS THE DATA INTO TENSORS\n",
    "\n",
    "X = torch.tensor(x_train.values, dtype=torch.float32)\n",
    "x = torch.tensor(x_test.values, dtype=torch.float32)\n",
    "Y = torch.tensor(y_train.values.astype(int), dtype=torch.long)\n",
    "y = torch.tensor(y_test.values.astype(int), dtype=torch.long)"
   ]
  },
  {
   "cell_type": "markdown",
   "metadata": {},
   "source": [
    "Creating the desired NN model for the dataset"
   ]
  },
  {
   "cell_type": "code",
   "execution_count": 29,
   "metadata": {},
   "outputs": [
    {
     "name": "stdout",
     "output_type": "stream",
     "text": [
      "Epoch 1/10, Loss: 0.31009370770128325\n",
      "Epoch 2/10, Loss: 0.13009191055979075\n",
      "Epoch 3/10, Loss: 0.08875649674604877\n",
      "Epoch 4/10, Loss: 0.06663623656477384\n",
      "Epoch 5/10, Loss: 0.05134473633925481\n",
      "Epoch 6/10, Loss: 0.039817361865439674\n",
      "Epoch 7/10, Loss: 0.0331788550013375\n",
      "Epoch 8/10, Loss: 0.028503139206508956\n",
      "Epoch 9/10, Loss: 0.025275266671198438\n",
      "Epoch 10/10, Loss: 0.02032229780665417\n",
      "Accuracy on test set: 97.48571428571428%\n"
     ]
    }
   ],
   "source": [
    "\n",
    "# CHECK GPU, IF AVAILABLE, USE IT\n",
    "# I HAVE MADE SURE THAT THE TENSORS AND THE MODEL IS ALSO SENT TO THE GPU FOR TRAINING IN THE CODE BELOW \n",
    "# .to(device) SENDS THE DATA TO THE GPU\n",
    "\n",
    "device = torch.device('cuda' if torch.cuda.is_available() else 'cpu')\n",
    "batch_size = 32\n",
    "train_dataset = TensorDataset(X,Y)\n",
    "test_dataset = TensorDataset(x, y)\n",
    "train_loader = DataLoader(train_dataset, batch_size=batch_size, shuffle=True)\n",
    "test_loader = DataLoader(test_dataset, batch_size=batch_size, shuffle=False)\n",
    "\n",
    "\n",
    "# DEFINING THE DESIRED NN MODEL IN PYTORCH \n",
    "# THE MODEL CONTAINS 3 LAYERS\n",
    "# THE INPUT LAYER HAS 784 NEURONS\n",
    "# THE HIDDEN LAYER HAS 128 NEURONS\n",
    "# THE HIDDEN LAYER HAS 64 NEURONS\n",
    "# THE OUTPUT LAYER HAS 10 NEURONS\n",
    "# THE OUTPUT LAYER HAS 10 NEURONS BECAUSE THERE ARE 10 CLASSES IN THE DATASET\n",
    "\n",
    "class Net(nn.Module):\n",
    "    def __init__(self):\n",
    "        super(Net, self).__init__()\n",
    "        self.fc1 = nn.Linear(784, 128)\n",
    "        self.fc2 = nn.Linear(128, 64)\n",
    "        self.fc3 = nn.Linear(64, 10)\n",
    "    \n",
    "    # THIS IS FORWARD PASS OF NEURAL NETWORK\n",
    "    # THE INPUT IS FLATTENED TO 1D TENSOR\n",
    "    # WE HAVE USED RELU ACTIVATION FUNCTION IN THE HIDDEN LAYERS\n",
    "    def forward(self, x):\n",
    "        x = torch.flatten(x, start_dim=1)\n",
    "        x = torch.relu(self.fc1(x))\n",
    "        x = torch.relu(self.fc2(x))\n",
    "        x = self.fc3(x)\n",
    "        return x\n",
    "\n",
    "\n",
    "\n",
    "# HERE WE ENSURE THE MODEL IS SENT TO THE GPU.\n",
    "# THE DEVICE VARIABLE CONTAINS THE INFORMATION ABOUT THE GPU\n",
    "# IF IT IS AVALABLE, THE MODEL WILL BE SENT TO THE GPU\n",
    "# ELSE IT WILL BE SENT TO THE CPU\n",
    "\n",
    "model = Net().to(device)\n",
    "\n",
    "# THE LOSS FUNCTION USED IS CROSS ENTROPY LOSS\n",
    "# THE OPTIMIZER USED IS ADAM OPTIMIZER\n",
    "# THE LEARNING RATE IS SET TO BE 0.001\n",
    "\n",
    "criterion = nn.CrossEntropyLoss()\n",
    "optimizer = optim.Adam(model.parameters(), lr=0.001)\n",
    "\n",
    "\n",
    "# TRAINING THE MODEL\n",
    "# THE MODEL IS TRAINED FOR 10 EPOCHS\n",
    "# THE TRAINING LOSS IS PRINTED AFTER EACH EPOCH\n",
    "# THE TRAINING LOSS DECREASES AS THE EPOCHS INCREASES\n",
    "epochs = 10\n",
    "for epoch in range(epochs):\n",
    "    running_loss = 0.0\n",
    "    for inputs, labels in train_loader:\n",
    "        inputs, labels = inputs.to(device), labels.to(device) # SEND DATA TO GPU\n",
    "        optimizer.zero_grad()\n",
    "        outputs = model(inputs) # FORWARD PASS. RESULTS ARE STORED IN OUTPUTS\n",
    "        loss = criterion(outputs, labels) # CALCULATE LOSS\n",
    "        loss.backward() # BACKWARD PASS\n",
    "        optimizer.step() # UPDATE WEIGHTS\n",
    "        running_loss += loss.item() # ADD LOSS TO RUNNING LOSS.\n",
    "    print(f\"Epoch {epoch + 1}/{epochs}, Loss: {running_loss / len(train_loader)}\")\n",
    "\n",
    "\n",
    "# TESTING THE MODEL\n",
    "# HERE WE PRINT THE ACCURACY OF THE MODEL\n",
    "# THE MODEL IS TESTED ON THE TEST SET\n",
    "# THE ACCURACY OF THE MODEL IS PRINTED\n",
    "\n",
    "correct = 0\n",
    "total = 0\n",
    "with torch.no_grad():\n",
    "    for inputs, labels in test_loader:\n",
    "        inputs, labels = inputs.to(device), labels.to(device)\n",
    "        outputs = model(inputs)\n",
    "        _, predicted = torch.max(outputs, 1)\n",
    "        total += labels.size(0)\n",
    "        correct += (predicted == labels).sum().item()\n",
    "\n",
    "print(f'Accuracy on test set: {100 * correct / total}%')\n"
   ]
  }
 ],
 "metadata": {
  "kernelspec": {
   "display_name": "melior",
   "language": "python",
   "name": "python3"
  },
  "language_info": {
   "codemirror_mode": {
    "name": "ipython",
    "version": 3
   },
   "file_extension": ".py",
   "mimetype": "text/x-python",
   "name": "python",
   "nbconvert_exporter": "python",
   "pygments_lexer": "ipython3",
   "version": "3.10.14"
  }
 },
 "nbformat": 4,
 "nbformat_minor": 2
}
